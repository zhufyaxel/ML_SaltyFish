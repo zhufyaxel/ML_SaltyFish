{
 "cells": [
  {
   "cell_type": "code",
   "execution_count": 1,
   "metadata": {},
   "outputs": [],
   "source": [
    "import numpy as np\n",
    "import imageio"
   ]
  },
  {
   "cell_type": "code",
   "execution_count": 61,
   "metadata": {},
   "outputs": [
    {
     "data": {
      "text/plain": [
       "(512, 512, 4)"
      ]
     },
     "execution_count": 61,
     "metadata": {},
     "output_type": "execute_result"
    }
   ],
   "source": [
    "imgA = imageio.imread(\"Data/lena.png\")\n",
    "imgB = imageio.imread(\"Data/lena_modified.png\")\n",
    "targetImg = np.zeros(imgA.shape, dtype = np.uint8)\n",
    "for line in range(imgA.shape[0]):\n",
    "    for col in range(imgA.shape[1]):\n",
    "        if np.array_equal(imgA[line][col], imgB[line][col]) != True:\n",
    "            targetImg[line][col] = imgB[line][col]\n",
    "        else:\n",
    "            targetImg[line][col] = [0,0,0,0]\n",
    "targetImg.shape"
   ]
  },
  {
   "cell_type": "code",
   "execution_count": 62,
   "metadata": {},
   "outputs": [],
   "source": [
    "imageio.imwrite(\"test.png\",targetImg)"
   ]
  },
  {
   "cell_type": "code",
   "execution_count": null,
   "metadata": {},
   "outputs": [],
   "source": []
  }
 ],
 "metadata": {
  "kernelspec": {
   "display_name": "Python 3",
   "language": "python",
   "name": "python3"
  },
  "language_info": {
   "codemirror_mode": {
    "name": "ipython",
    "version": 3
   },
   "file_extension": ".py",
   "mimetype": "text/x-python",
   "name": "python",
   "nbconvert_exporter": "python",
   "pygments_lexer": "ipython3",
   "version": "3.7.4"
  }
 },
 "nbformat": 4,
 "nbformat_minor": 2
}
