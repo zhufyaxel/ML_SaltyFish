{
 "cells": [
  {
   "cell_type": "code",
   "execution_count": 64,
   "metadata": {},
   "outputs": [],
   "source": [
    "import numpy as np\n",
    "# here we should make the data to be matrix instead of ndarray\n",
    "matrixA = np.asmatrix(np.loadtxt(\"Data/matrixA.txt\", dtype = int, delimiter = \",\"))\n",
    "matrixB = np.asmatrix(np.loadtxt(\"Data/matrixB.txt\",dtype = int, delimiter = \",\"))\n",
    "arrayA = np.loadtxt(\"Data/matrixA.txt\", dtype = int, delimiter = \",\")\n",
    "matrixA * matrixB\n",
    "# https://stackoverflow.com/questions/22118648/how-to-write-a-numpy-matrix-in-a-text-file-python\n",
    "result = np.sort(matrixA * matrixB)\n",
    "# https://docs.scipy.org/doc/numpy/reference/generated/numpy.savetxt.html\n",
    "np.savetxt (\"results.txt\", result, fmt = \"%d\") "
   ]
  }
 ],
 "metadata": {
  "kernelspec": {
   "display_name": "Python 3",
   "language": "python",
   "name": "python3"
  },
  "language_info": {
   "codemirror_mode": {
    "name": "ipython",
    "version": 3
   },
   "file_extension": ".py",
   "mimetype": "text/x-python",
   "name": "python",
   "nbconvert_exporter": "python",
   "pygments_lexer": "ipython3",
   "version": "3.7.4"
  }
 },
 "nbformat": 4,
 "nbformat_minor": 2
}
